{
 "cells": [
  {
   "cell_type": "markdown",
   "metadata": {},
   "source": [
    "# 시각 심화\n",
    "\n",
    "- **Instructor**: Jongwoo Lim / Jiun Bae\n",
    "- **Email**: [jlim@hanyang.ac.kr](mailto:jlim@hanyang.ac.kr) / [jiunbae.623@gmail.com](mailto:jiunbae.623@gmail.com)\n",
    "\n",
    "## Machine Learnig Basic\n",
    "\n",
    "In this example we will take a quick look at how machine learning works. The goals of this example are as follows:\n",
    "\n",
    "- Understand **Machine Learning** and how they work.\n",
    "- Learn basically how to **write and use code**.\n",
    "\n",
    "And this example also is written in [IPython Notebook](https://ipython.org/notebook.html), an interactive computational environment, in which you can run code directly."
   ]
  },
  {
   "cell_type": "markdown",
   "metadata": {},
   "source": [
    "## Machine Learning Model\n",
    "\n",
    "You can think of a basic machine learning model as a function that returns a predicted value for an input.\n",
    "\n",
    "![](../assets/machine-learning-model.png)\n",
    "\n",
    "To make this model return the results we want, we can use the training data to update the model with the differences from the desired results.\n",
    "\n",
    "![](../assets/machine-learning-model-train.png)"
   ]
  },
  {
   "cell_type": "markdown",
   "metadata": {},
   "source": [
    "## Perceptron: <small>Artifical Neuron</small>\n",
    "\n",
    "An artificial neuron is a mathematical function based on a model of biological neurons, where each neuron takes inputs, weighs them separately, sums them up and passes this sum through a nonlinear function to produce output. A perceptron is a neural network unit (an artificial neuron) that does certain computations to detect features or business intelligence in the input data.\n",
    "\n",
    "![](../assets/perceptron.png)"
   ]
  },
  {
   "cell_type": "code",
   "execution_count": null,
   "metadata": {},
   "outputs": [],
   "source": [
    "import numpy as np\n",
    "import matplotlib.pyplot as plt"
   ]
  },
  {
   "cell_type": "code",
   "execution_count": null,
   "metadata": {},
   "outputs": [],
   "source": [
    "data_size = 1000\n",
    "dimension = 2"
   ]
  },
  {
   "cell_type": "markdown",
   "metadata": {},
   "source": [
    "### Random points\n",
    "\n",
    "1000 dots within the range of $x: 0..1, y: 0..1$.\n",
    "\n",
    "Points with $y>x$ will be green (label=0) and points with no blue (label=1)."
   ]
  },
  {
   "cell_type": "code",
   "execution_count": null,
   "metadata": {},
   "outputs": [],
   "source": [
    "points = np.random.rand(data_size, dimension)\n",
    "labels = np.zeros(data_size)\n",
    "labels[points[:, 0] > points[:, 1]] = 1"
   ]
  },
  {
   "cell_type": "code",
   "execution_count": null,
   "metadata": {},
   "outputs": [],
   "source": [
    "line = np.arange(0, 1, .001)"
   ]
  },
  {
   "cell_type": "code",
   "execution_count": null,
   "metadata": {},
   "outputs": [],
   "source": [
    "plt.scatter(points[labels == 0][:, 0], points[labels == 0][:, 1], c='g')\n",
    "plt.scatter(points[labels == 1][:, 0], points[labels == 1][:, 1], c='b')\n",
    "plt.plot(line, line, '-r')"
   ]
  },
  {
   "cell_type": "markdown",
   "metadata": {},
   "source": [
    "### Simple perceptron\n",
    "\n",
    "$w$ is weight, $b$ is bias\n",
    "\n",
    "$y = wx + b$"
   ]
  },
  {
   "cell_type": "code",
   "execution_count": null,
   "metadata": {},
   "outputs": [],
   "source": [
    "weight = np.random.rand(dimension)\n",
    "bias = np.random.rand(dimension)"
   ]
  },
  {
   "cell_type": "code",
   "execution_count": null,
   "metadata": {},
   "outputs": [],
   "source": [
    "def forward(weight, bias, X):\n",
    "    return np.sum(np.multiply(X, weight) + bias)"
   ]
  },
  {
   "cell_type": "code",
   "execution_count": null,
   "metadata": {},
   "outputs": [],
   "source": [
    "prediction = forward(weight, bias, points[0])"
   ]
  },
  {
   "cell_type": "code",
   "execution_count": null,
   "metadata": {},
   "outputs": [],
   "source": [
    "print(f'We expected {labels[0]}, prediction is {0 if prediction > .5 else 1}')"
   ]
  },
  {
   "cell_type": "markdown",
   "metadata": {},
   "source": [
    "Calculate `error` and update `weight`, `bias`"
   ]
  },
  {
   "cell_type": "code",
   "execution_count": null,
   "metadata": {},
   "outputs": [],
   "source": [
    "error = prediction - labels[0]\n",
    "weight = weight - .1 * error * points[0]\n",
    "bias = bias - .1 * error"
   ]
  },
  {
   "cell_type": "markdown",
   "metadata": {},
   "source": [
    "### Train & Test"
   ]
  },
  {
   "cell_type": "code",
   "execution_count": null,
   "metadata": {},
   "outputs": [],
   "source": [
    "train_size = int(data_size * .7)\n",
    "train_points = points[:train_size]\n",
    "train_labels = labels[:train_size]\n",
    "test_points = points[train_size:]\n",
    "test_labels = labels[train_size:]"
   ]
  },
  {
   "cell_type": "code",
   "execution_count": null,
   "metadata": {},
   "outputs": [],
   "source": [
    "for epoch in range(500):\n",
    "    # train\n",
    "    for x, y in zip(train_points, train_labels):\n",
    "        # get prediction\n",
    "        pred = forward(weight, bias, x)\n",
    "        # calculate error\n",
    "        error = pred - y\n",
    "        \n",
    "        # update model\n",
    "        weight -= .01 * error * x   \n",
    "        bias -= .01 * error * x\n",
    "    \n",
    "    # test\n",
    "    if not (epoch % 100):\n",
    "        predictions = np.array([forward(weight, bias, x).item() > .5 for x, _ in zip(test_points, test_labels)])\n",
    "        print(f'Acc: {(predictions == test_labels).sum() / len(test_labels):.4f}')\n",
    "        \n",
    "        plt.scatter(test_points[predictions == 0][:, 0], test_points[predictions == 0][:, 1], c='g')\n",
    "        plt.scatter(test_points[predictions == 1][:, 0], test_points[predictions == 1][:, 1], c='b')\n",
    "        plt.plot(line, line, '-r')\n",
    "        plt.show()"
   ]
  },
  {
   "cell_type": "code",
   "execution_count": null,
   "metadata": {},
   "outputs": [],
   "source": []
  }
 ],
 "metadata": {
  "kernelspec": {
   "display_name": "Python 3",
   "language": "python",
   "name": "python3"
  },
  "language_info": {
   "codemirror_mode": {
    "name": "ipython",
    "version": 3
   },
   "file_extension": ".py",
   "mimetype": "text/x-python",
   "name": "python",
   "nbconvert_exporter": "python",
   "pygments_lexer": "ipython3",
   "version": "3.7.6"
  }
 },
 "nbformat": 4,
 "nbformat_minor": 4
}
