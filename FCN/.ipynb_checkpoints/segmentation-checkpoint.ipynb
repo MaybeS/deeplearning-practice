{
 "cells": [
  {
   "cell_type": "markdown",
   "metadata": {},
   "source": [
    "## Import Packages"
   ]
  },
  {
   "cell_type": "code",
   "execution_count": null,
   "metadata": {},
   "outputs": [],
   "source": [
    "from pathlib import Path"
   ]
  },
  {
   "cell_type": "code",
   "execution_count": null,
   "metadata": {},
   "outputs": [],
   "source": [
    "import numpy as np\n",
    "from PIL import Image\n",
    "import torch\n",
    "from torch.utils import data\n",
    "import torch.optim as optim\n",
    "import torch.nn as nn\n",
    "from torch.utils.data import DataLoader\n",
    "from torchvision.transforms import Compose, CenterCrop, ToTensor, Normalize"
   ]
  },
  {
   "cell_type": "code",
   "execution_count": null,
   "metadata": {},
   "outputs": [],
   "source": [
    "from models.fcn import FCN\n",
    "from utils.data import VOC2012, CenterCropWithIgnore\n",
    "from utils.metric import compute_meanIU, compute_confusion"
   ]
  },
  {
   "cell_type": "markdown",
   "metadata": {},
   "source": [
    "## Set environments"
   ]
  },
  {
   "cell_type": "code",
   "execution_count": null,
   "metadata": {},
   "outputs": [],
   "source": [
    "device = torch.device('cuda:0' if torch.cuda.is_available() else 'cpu')"
   ]
  },
  {
   "cell_type": "code",
   "execution_count": null,
   "metadata": {},
   "outputs": [],
   "source": [
    "model = FCN()"
   ]
  },
  {
   "cell_type": "code",
   "execution_count": null,
   "metadata": {},
   "outputs": [],
   "source": [
    "optimizer = optim.Adam(model.parameters(), lr=1e-4)\n",
    "loss_fn = nn.CrossEntropyLoss(ignore_index=255)"
   ]
  },
  {
   "cell_type": "code",
   "execution_count": null,
   "metadata": {},
   "outputs": [],
   "source": [
    "dataset = VOC2012('./VOC2012',\n",
    "                  input_transform=Compose([\n",
    "                      CenterCrop(512),\n",
    "                      ToTensor(),\n",
    "                      Normalize([.485, .456, .406], [.229, .224, .225]),\n",
    "                  ]), target_transform=CenterCropWithIgnore(512, 255))\n",
    "loader = DataLoader(dataset, num_workers=1, batch_size=4, shuffle=True)"
   ]
  },
  {
   "cell_type": "code",
   "execution_count": null,
   "metadata": {},
   "outputs": [],
   "source": [
    "num_classes = 21"
   ]
  },
  {
   "cell_type": "markdown",
   "metadata": {},
   "source": [
    "## Define train/test function"
   ]
  },
  {
   "cell_type": "code",
   "execution_count": null,
   "metadata": {},
   "outputs": [],
   "source": [
    "def train(model, loader, optimizer):\n",
    "    model.to(device)\n",
    "    model.train()\n",
    "    \n",
    "    all_loss = 0\n",
    "    all_conf = torch.zeros(num_classes, num_classes)\n",
    "    for i, data in enumerate(loader):\n",
    "        image, label = data[0].to(device), data[1].squeeze().to(device)\n",
    "        \n",
    "        optimizer.zero_grad()\n",
    "        pred = model.forward(image)\n",
    "        loss = loss_fn(pred, label)\n",
    "        loss.backward()\n",
    "        optimizer.step()\n",
    "        \n",
    "        val, pred_seg = pred.cpu().max(1)\n",
    "        all_loss += loss.item()\n",
    "        all_conf = all_conf + compute_confusion(pred_seg, label.cpu())\n",
    "        meaniu = compute_meanIU(all_conf)\n",
    "\n",
    "        if (i % 10 == 0) or (i == len(loader)-1):\n",
    "            print(\"[{:4d}/{:4d}] loss:{:.3f} meanIU:{:.3f}\".format(i, len(loader), all_loss/(i+1), meaniu))"
   ]
  },
  {
   "cell_type": "code",
   "execution_count": null,
   "metadata": {},
   "outputs": [],
   "source": [
    "def test(model, loader):\n",
    "    model.to(device)\n",
    "    model.eval()\n",
    "    \n",
    "    all_loss = 0\n",
    "    all_conf = torch.zeros(num_classes, num_classes)\n",
    "    for i, data in enumerate(loader):\n",
    "        image, label = data[0].to(device), data[1].squeeze().to(device)\n",
    "\n",
    "        pred = model.forward(image)\n",
    "        loss = loss_fn(pred, label)\n",
    "        val, pred_seg = pred.cpu().max(1)\n",
    "        \n",
    "        all_loss += loss.item()\n",
    "        all_conf = all_conf + compute_confusion(pred_seg, label.cpu())\n",
    "        meaniu = compute_meanIU(all_conf)\n",
    "\n",
    "        if (i % 50 == 0) or (i == len(loader)-1):\n",
    "            print(\"[{:4d}/{:4d}] loss:{:.3f} meanIU:{:.3f}\".format(i, len(loader), all_loss/(i+1), meaniu))"
   ]
  },
  {
   "cell_type": "markdown",
   "metadata": {},
   "source": [
    "## Train and test"
   ]
  },
  {
   "cell_type": "code",
   "execution_count": null,
   "metadata": {},
   "outputs": [],
   "source": [
    "train(model, loader, optimizer)"
   ]
  },
  {
   "cell_type": "code",
   "execution_count": null,
   "metadata": {},
   "outputs": [],
   "source": [
    "test(model, loader)"
   ]
  },
  {
   "cell_type": "markdown",
   "metadata": {},
   "source": [
    "## Visualize"
   ]
  },
  {
   "cell_type": "code",
   "execution_count": null,
   "metadata": {},
   "outputs": [],
   "source": [
    "import matplotlib.pyplot as plt"
   ]
  },
  {
   "cell_type": "code",
   "execution_count": null,
   "metadata": {},
   "outputs": [],
   "source": [
    "def get_voc_colormap():\n",
    "    N = 256\n",
    "    VOCcolormap = np.zeros([N, 3], dtype=np.uint8)\n",
    "    for i in range(0, N):\n",
    "        (r,b,g,idx)=(0,0,0,i)\n",
    "        for j in range(0, 8):\n",
    "            r = r | ((idx & 1) << (7 - j))\n",
    "            g = g | ((idx & 2) << (7 - j))\n",
    "            b = b | ((idx & 4) << (7 - j))\n",
    "            idx = idx >> 3\n",
    "        VOCcolormap[i, :] = [r, g >> 1, b >> 2]\n",
    "    return VOCcolormap\n",
    "\n",
    "def return_pascal_segmentation(input_im):\n",
    "    VOCcolormap = get_voc_colormap()\n",
    "    im = Image.fromarray(input_im, mode='P')\n",
    "    im.putpalette(np.reshape(VOCcolormap, 768, 'C'))\n",
    "    return im"
   ]
  },
  {
   "cell_type": "code",
   "execution_count": null,
   "metadata": {},
   "outputs": [],
   "source": [
    "im_idx = 0\n",
    "plt.figure(figsize=(15,5))\n",
    "plt.subplot(1,3,1)\n",
    "plt.imshow(data[0][im_idx,:,:,:].permute(1,2,0)) # C x H x W --> H x W x C\n",
    "plt.title('input image with mean subtracted')\n",
    "\n",
    "plt.subplot(1,3,2)\n",
    "plt.imshow(return_pascal_segmentation(data[1][im_idx,0,:,:].numpy().astype(np.uint8)))\n",
    "plt.title('ground truth segmentation')\n",
    "\n",
    "plt.subplot(1,3,3)\n",
    "val, pred_seg = pred.cpu().max(1)\n",
    "plt.imshow(return_pascal_segmentation(pred_seg[im_idx].numpy().astype(np.uint8)))\n",
    "plt.title('predicted segmentation')"
   ]
  }
 ],
 "metadata": {
  "kernelspec": {
   "display_name": "Python 3",
   "language": "python",
   "name": "python3"
  },
  "language_info": {
   "codemirror_mode": {
    "name": "ipython",
    "version": 3
   },
   "file_extension": ".py",
   "mimetype": "text/x-python",
   "name": "python",
   "nbconvert_exporter": "python",
   "pygments_lexer": "ipython3",
   "version": "3.7.3"
  }
 },
 "nbformat": 4,
 "nbformat_minor": 2
}
